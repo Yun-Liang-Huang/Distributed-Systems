{
 "cells": [
  {
   "cell_type": "code",
   "execution_count": 1,
   "metadata": {},
   "outputs": [
    {
     "name": "stderr",
     "output_type": "stream",
     "text": [
      "/home/hyhuang3/.local/lib/python3.6/site-packages/tqdm/auto.py:22: TqdmWarning: IProgress not found. Please update jupyter and ipywidgets. See https://ipywidgets.readthedocs.io/en/stable/user_install.html\n",
      "  from .autonotebook import tqdm as notebook_tqdm\n"
     ]
    }
   ],
   "source": [
    "from transformers import pipeline, BertTokenizer, BertModel\n",
    "import sys\n"
   ]
  },
  {
   "cell_type": "code",
   "execution_count": 2,
   "metadata": {},
   "outputs": [
    {
     "name": "stderr",
     "output_type": "stream",
     "text": [
      "Downloading: 100%|██████████| 570/570 [00:00<00:00, 532kB/s]\n",
      "Downloading: 100%|██████████| 420M/420M [00:11<00:00, 39.2MB/s] \n",
      "Some weights of the model checkpoint at bert-base-uncased were not used when initializing BertForMaskedLM: ['cls.seq_relationship.bias', 'cls.seq_relationship.weight']\n",
      "- This IS expected if you are initializing BertForMaskedLM from the checkpoint of a model trained on another task or with another architecture (e.g. initializing a BertForSequenceClassification model from a BertForPreTraining model).\n",
      "- This IS NOT expected if you are initializing BertForMaskedLM from the checkpoint of a model that you expect to be exactly identical (initializing a BertForSequenceClassification model from a BertForSequenceClassification model).\n",
      "Downloading: 100%|██████████| 28.0/28.0 [00:00<00:00, 11.6kB/s]\n",
      "Downloading: 100%|██████████| 226k/226k [00:00<00:00, 3.66MB/s]\n",
      "Downloading: 100%|██████████| 455k/455k [00:00<00:00, 5.41MB/s]\n"
     ]
    }
   ],
   "source": [
    "\n",
    "unmasker = pipeline('fill-mask', model='bert-base-uncased')\n",
    "    "
   ]
  },
  {
   "cell_type": "code",
   "execution_count": 3,
   "metadata": {},
   "outputs": [],
   "source": [
    "texts = [\"usually , he would be [MASK] around the living room , playing with his toys .\", \"but just one look at a minion sent him practically [MASK] .\"\n",
    "]"
   ]
  },
  {
   "cell_type": "code",
   "execution_count": 6,
   "metadata": {},
   "outputs": [],
   "source": [
    "outputs = unmasker(texts)"
   ]
  },
  {
   "cell_type": "code",
   "execution_count": 7,
   "metadata": {},
   "outputs": [
    {
     "data": {
      "text/plain": [
       "[[{'score': 0.41129231452941895,\n",
       "   'token': 13071,\n",
       "   'token_str': 'wandering',\n",
       "   'sequence': 'usually, he would be wandering around the living room, playing with his toys.'},\n",
       "  {'score': 0.10124633461236954,\n",
       "   'token': 3564,\n",
       "   'token_str': 'sitting',\n",
       "   'sequence': 'usually, he would be sitting around the living room, playing with his toys.'},\n",
       "  {'score': 0.04853193834424019,\n",
       "   'token': 3788,\n",
       "   'token_str': 'walking',\n",
       "   'sequence': 'usually, he would be walking around the living room, playing with his toys.'},\n",
       "  {'score': 0.039134688675403595,\n",
       "   'token': 2770,\n",
       "   'token_str': 'running',\n",
       "   'sequence': 'usually, he would be running around the living room, playing with his toys.'},\n",
       "  {'score': 0.03730812296271324,\n",
       "   'token': 2559,\n",
       "   'token_str': 'looking',\n",
       "   'sequence': 'usually, he would be looking around the living room, playing with his toys.'}],\n",
       " [{'score': 0.2942196726799011,\n",
       "   'token': 9577,\n",
       "   'token_str': 'insane',\n",
       "   'sequence': 'but just one look at a minion sent him practically insane.'},\n",
       "  {'score': 0.07394103705883026,\n",
       "   'token': 5506,\n",
       "   'token_str': 'mad',\n",
       "   'sequence': 'but just one look at a minion sent him practically mad.'},\n",
       "  {'score': 0.04692109301686287,\n",
       "   'token': 4689,\n",
       "   'token_str': 'crazy',\n",
       "   'sequence': 'but just one look at a minion sent him practically crazy.'},\n",
       "  {'score': 0.043756794184446335,\n",
       "   'token': 5513,\n",
       "   'token_str': 'shaking',\n",
       "   'sequence': 'but just one look at a minion sent him practically shaking.'},\n",
       "  {'score': 0.03721802309155464,\n",
       "   'token': 7491,\n",
       "   'token_str': 'screaming',\n",
       "   'sequence': 'but just one look at a minion sent him practically screaming.'}]]"
      ]
     },
     "execution_count": 7,
     "metadata": {},
     "output_type": "execute_result"
    }
   ],
   "source": [
    "outputs"
   ]
  },
  {
   "cell_type": "code",
   "execution_count": 8,
   "metadata": {},
   "outputs": [],
   "source": [
    "results = [output[0]['sequence'] for output in outputs]"
   ]
  },
  {
   "cell_type": "code",
   "execution_count": 9,
   "metadata": {},
   "outputs": [
    {
     "data": {
      "text/plain": [
       "['usually, he would be wandering around the living room, playing with his toys.',\n",
       " 'but just one look at a minion sent him practically insane.']"
      ]
     },
     "execution_count": 9,
     "metadata": {},
     "output_type": "execute_result"
    }
   ],
   "source": [
    "results"
   ]
  },
  {
   "cell_type": "code",
   "execution_count": null,
   "metadata": {},
   "outputs": [],
   "source": []
  }
 ],
 "metadata": {
  "kernelspec": {
   "display_name": "Python 3.6.8 64-bit",
   "language": "python",
   "name": "python3"
  },
  "language_info": {
   "codemirror_mode": {
    "name": "ipython",
    "version": 3
   },
   "file_extension": ".py",
   "mimetype": "text/x-python",
   "name": "python",
   "nbconvert_exporter": "python",
   "pygments_lexer": "ipython3",
   "version": "3.6.8"
  },
  "orig_nbformat": 4,
  "vscode": {
   "interpreter": {
    "hash": "916dbcbb3f70747c44a77c7bcd40155683ae19c65e1c03b4aa3499c5328201f1"
   }
  }
 },
 "nbformat": 4,
 "nbformat_minor": 2
}
